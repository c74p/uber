{
 "cells": [
  {
   "cell_type": "markdown",
   "metadata": {},
   "source": [
    "# Part 3\n",
    "\n",
    "### About this Notebook\n",
    "This notebook goes through my thought process in the modeling. A less-technical, more business-oriented summary will \n",
    "appear at the end, and an appendix has more detail.  Commentary is provided via text cells like this, with headings the \n",
    "same size as \"About this Notebook\" above."
   ]
  },
  {
   "cell_type": "markdown",
   "metadata": {},
   "source": [
    "### Imports"
   ]
  },
  {
   "cell_type": "code",
   "execution_count": 1,
   "metadata": {},
   "outputs": [],
   "source": [
    "import matplotlib as mpl\n",
    "import matplotlib.pyplot as plt\n",
    "import numpy as np\n",
    "import pandas as pd\n",
    "import seaborn as sns\n",
    "from sklearn.ensemble import RandomForestClassifier\n",
    "from sklearn.linear_model import LogisticRegression\n",
    "from sklearn.metrics import accuracy_score, confusion_matrix, roc_auc_score\n",
    "from sklearn.model_selection import GridSearchCV, train_test_split\n",
    "from sklearn.preprocessing import StandardScaler\n",
    "from sklearn.pipeline import Pipeline\n",
    "from sklearn.svm import LinearSVC\n",
    "import tempfile\n",
    "import time\n",
    "plt.style.use('seaborn')"
   ]
  },
  {
   "cell_type": "code",
   "execution_count": 2,
   "metadata": {},
   "outputs": [],
   "source": [
    "with open('../../data/raw/ultimate_data_challenge.json') as file0:\n",
    "    text = file0.read().replace('NaN', '\"NaN\"')\n",
    "    with open('../../data/raw/uber_no_probs.json', 'w') as new_file:\n",
    "        new_file.write(text)"
   ]
  },
  {
   "cell_type": "code",
   "execution_count": 3,
   "metadata": {},
   "outputs": [
    {
     "data": {
      "text/html": [
       "<div>\n",
       "<style scoped>\n",
       "    .dataframe tbody tr th:only-of-type {\n",
       "        vertical-align: middle;\n",
       "    }\n",
       "\n",
       "    .dataframe tbody tr th {\n",
       "        vertical-align: top;\n",
       "    }\n",
       "\n",
       "    .dataframe thead th {\n",
       "        text-align: right;\n",
       "    }\n",
       "</style>\n",
       "<table border=\"1\" class=\"dataframe\">\n",
       "  <thead>\n",
       "    <tr style=\"text-align: right;\">\n",
       "      <th></th>\n",
       "      <th>avg_dist</th>\n",
       "      <th>avg_rating_by_driver</th>\n",
       "      <th>avg_rating_of_driver</th>\n",
       "      <th>avg_surge</th>\n",
       "      <th>city</th>\n",
       "      <th>last_trip_date</th>\n",
       "      <th>phone</th>\n",
       "      <th>signup_date</th>\n",
       "      <th>surge_pct</th>\n",
       "      <th>trips_in_first_30_days</th>\n",
       "      <th>ultimate_black_user</th>\n",
       "      <th>weekday_pct</th>\n",
       "    </tr>\n",
       "  </thead>\n",
       "  <tbody>\n",
       "    <tr>\n",
       "      <th>0</th>\n",
       "      <td>3.67</td>\n",
       "      <td>5.0</td>\n",
       "      <td>4.7</td>\n",
       "      <td>1.10</td>\n",
       "      <td>King's Landing</td>\n",
       "      <td>2014-06-17</td>\n",
       "      <td>iPhone</td>\n",
       "      <td>2014-01-25</td>\n",
       "      <td>15.4</td>\n",
       "      <td>4</td>\n",
       "      <td>True</td>\n",
       "      <td>46.2</td>\n",
       "    </tr>\n",
       "    <tr>\n",
       "      <th>1</th>\n",
       "      <td>8.26</td>\n",
       "      <td>5.0</td>\n",
       "      <td>5.0</td>\n",
       "      <td>1.00</td>\n",
       "      <td>Astapor</td>\n",
       "      <td>2014-05-05</td>\n",
       "      <td>Android</td>\n",
       "      <td>2014-01-29</td>\n",
       "      <td>0.0</td>\n",
       "      <td>0</td>\n",
       "      <td>False</td>\n",
       "      <td>50.0</td>\n",
       "    </tr>\n",
       "    <tr>\n",
       "      <th>2</th>\n",
       "      <td>0.77</td>\n",
       "      <td>5.0</td>\n",
       "      <td>4.3</td>\n",
       "      <td>1.00</td>\n",
       "      <td>Astapor</td>\n",
       "      <td>2014-01-07</td>\n",
       "      <td>iPhone</td>\n",
       "      <td>2014-01-06</td>\n",
       "      <td>0.0</td>\n",
       "      <td>3</td>\n",
       "      <td>False</td>\n",
       "      <td>100.0</td>\n",
       "    </tr>\n",
       "    <tr>\n",
       "      <th>3</th>\n",
       "      <td>2.36</td>\n",
       "      <td>4.9</td>\n",
       "      <td>4.6</td>\n",
       "      <td>1.14</td>\n",
       "      <td>King's Landing</td>\n",
       "      <td>2014-06-29</td>\n",
       "      <td>iPhone</td>\n",
       "      <td>2014-01-10</td>\n",
       "      <td>20.0</td>\n",
       "      <td>9</td>\n",
       "      <td>True</td>\n",
       "      <td>80.0</td>\n",
       "    </tr>\n",
       "    <tr>\n",
       "      <th>4</th>\n",
       "      <td>3.13</td>\n",
       "      <td>4.9</td>\n",
       "      <td>4.4</td>\n",
       "      <td>1.19</td>\n",
       "      <td>Winterfell</td>\n",
       "      <td>2014-03-15</td>\n",
       "      <td>Android</td>\n",
       "      <td>2014-01-27</td>\n",
       "      <td>11.8</td>\n",
       "      <td>14</td>\n",
       "      <td>False</td>\n",
       "      <td>82.4</td>\n",
       "    </tr>\n",
       "  </tbody>\n",
       "</table>\n",
       "</div>"
      ],
      "text/plain": [
       "   avg_dist  avg_rating_by_driver  avg_rating_of_driver  avg_surge  \\\n",
       "0      3.67                   5.0                   4.7       1.10   \n",
       "1      8.26                   5.0                   5.0       1.00   \n",
       "2      0.77                   5.0                   4.3       1.00   \n",
       "3      2.36                   4.9                   4.6       1.14   \n",
       "4      3.13                   4.9                   4.4       1.19   \n",
       "\n",
       "             city last_trip_date    phone signup_date  surge_pct  \\\n",
       "0  King's Landing     2014-06-17   iPhone  2014-01-25       15.4   \n",
       "1         Astapor     2014-05-05  Android  2014-01-29        0.0   \n",
       "2         Astapor     2014-01-07   iPhone  2014-01-06        0.0   \n",
       "3  King's Landing     2014-06-29   iPhone  2014-01-10       20.0   \n",
       "4      Winterfell     2014-03-15  Android  2014-01-27       11.8   \n",
       "\n",
       "   trips_in_first_30_days  ultimate_black_user  weekday_pct  \n",
       "0                       4                 True         46.2  \n",
       "1                       0                False         50.0  \n",
       "2                       3                False        100.0  \n",
       "3                       9                 True         80.0  \n",
       "4                      14                False         82.4  "
      ]
     },
     "execution_count": 3,
     "metadata": {},
     "output_type": "execute_result"
    }
   ],
   "source": [
    "df_raw = pd.read_json('../../data/raw/uber_no_probs.json', orient='records')\n",
    "df = df_raw.copy()\n",
    "df2 = df_raw.copy()\n",
    "df.head()"
   ]
  },
  {
   "cell_type": "markdown",
   "metadata": {},
   "source": [
    "### Basic Visualizations\n",
    "Basic Visualizations included:\n",
    "1. df.info(), df.describe(), df.head() for quick overview of the data set.\n",
    "2. Single- and multi-variate charts.\n",
    "\n",
    "A few examples are included below.  More are in the appendix."
   ]
  },
  {
   "cell_type": "code",
   "execution_count": 4,
   "metadata": {},
   "outputs": [
    {
     "name": "stdout",
     "output_type": "stream",
     "text": [
      "<class 'pandas.core.frame.DataFrame'>\n",
      "RangeIndex: 50000 entries, 0 to 49999\n",
      "Data columns (total 12 columns):\n",
      "avg_dist                  50000 non-null float64\n",
      "avg_rating_by_driver      49799 non-null float64\n",
      "avg_rating_of_driver      41878 non-null float64\n",
      "avg_surge                 50000 non-null float64\n",
      "city                      50000 non-null object\n",
      "last_trip_date            50000 non-null object\n",
      "phone                     49604 non-null object\n",
      "signup_date               50000 non-null object\n",
      "surge_pct                 50000 non-null float64\n",
      "trips_in_first_30_days    50000 non-null int64\n",
      "ultimate_black_user       50000 non-null bool\n",
      "weekday_pct               50000 non-null float64\n",
      "dtypes: bool(1), float64(6), int64(1), object(4)\n",
      "memory usage: 4.2+ MB\n"
     ]
    }
   ],
   "source": [
    "df.info()"
   ]
  },
  {
   "cell_type": "code",
   "execution_count": 5,
   "metadata": {},
   "outputs": [
    {
     "data": {
      "image/png": "[encoded data removed]",
      "text/plain": [
       "<Figure size 432x288 with 1 Axes>"
      ]
     },
     "metadata": {
      "needs_background": "light"
     },
     "output_type": "display_data"
    }
   ],
   "source": [
    "# Single-variable plots for EDA\n",
    "ax = sns.distplot(df.avg_dist)\n",
    "ax.set_title('Distribution of avg_dist')\n",
    "ax.set_xlabel('avg_dist (average distance/trip in miles, 1st 30 days)')\n",
    "ax.set_ylabel('Relative Frequency');"
   ]
  },
  {
   "cell_type": "code",
   "execution_count": 6,
   "metadata": {},
   "outputs": [
    {
     "data": {
      "image/png": "[encoded data removed]",
      "text/plain": [
       "<Figure size 432x432 with 3 Axes>"
      ]
     },
     "metadata": {
      "needs_background": "light"
     },
     "output_type": "display_data"
    }
   ],
   "source": [
    "temp = df.copy()\n",
    "temp = temp[(temp.avg_rating_by_driver.notna()) & (temp.avg_rating_of_driver.notna())]\n",
    "sns.jointplot(temp.avg_rating_by_driver.dropna(), temp.avg_rating_of_driver.dropna());"
   ]
  },
  {
   "cell_type": "code",
   "execution_count": 7,
   "metadata": {},
   "outputs": [
    {
     "data": {
      "image/png": "[encoded data removed]",
      "text/plain": [
       "<Figure size 432x288 with 1 Axes>"
      ]
     },
     "metadata": {
      "needs_background": "light"
     },
     "output_type": "display_data"
    }
   ],
   "source": [
    "# Pull nans out of rating before graphing\n",
    "non_nans = df.avg_rating_of_driver.dropna()\n",
    "mean_nans = df.avg_rating_of_driver.fillna(df.avg_rating_of_driver.mean())\n",
    "ax = sns.distplot(mean_nans)\n",
    "ax.set_title('Distribution of avg_rating_of_driver')\n",
    "ax.set_ylabel('Relative Frequency');"
   ]
  },
  {
   "cell_type": "code",
   "execution_count": 8,
   "metadata": {},
   "outputs": [
    {
     "data": {
      "image/png": "[encoded data removed]",
      "text/plain": [
       "<Figure size 432x288 with 1 Axes>"
      ]
     },
     "metadata": {
      "needs_background": "light"
     },
     "output_type": "display_data"
    }
   ],
   "source": [
    "df['last_trip_date'] = pd.to_datetime(df.last_trip_date)\n",
    "counts = df.last_trip_date.dt.month.value_counts()\n",
    "fig, ax = plt.subplots()\n",
    "mpl.axes.Axes.bar(x=counts.index, height=counts.values, ax=ax)\n",
    "ax.set_title('Last Trip Date by Month')\n",
    "ax.set_xlabel('Month')\n",
    "ax.set_xticklabels(['', 'Jan', 'Feb', 'Mar', 'Apr', 'May', 'Jun', 'Jul'])\n",
    "ax.set_ylabel('Count of Riders');"
   ]
  },
  {
   "cell_type": "markdown",
   "metadata": {},
   "source": [
    "### Further EDA\n",
    "Further EDA included:\n",
    "1. Examining the categories with NaNs to understand the best way to deal with Nans\n",
    "    * For both the \"avg_rating\" categories, I replaced NaNs with the mean\n",
    "    * For \"phone\", I replaced NaN with \"NA\"\n",
    "2. Examining categories with outliers\n",
    "    * I tend to go light with outliers unless I have specific reasons to pull things out\n",
    "    * In this case, I ran one data set with outliers removed, and one without: not much difference, due to model (Random Forest)\n",
    "    * Outliers removed included:\n",
    "        * 41 observations with avg_dist > 50 miles\n",
    "        * 67 observations with avg_surge > 3\n",
    "        * 35 observations with trips_in_first_30_days > 40\n",
    "    * In this case, that's 143 observations, well less than 1% of the data set"
   ]
  },
  {
   "cell_type": "code",
   "execution_count": 9,
   "metadata": {},
   "outputs": [],
   "source": [
    "# Pull out outliers in df2, leave outliers in df\n",
    "len(df[df.avg_dist > 50]) # 41\n",
    "df2 = df2[df2.avg_dist < 50]"
   ]
  },
  {
   "cell_type": "code",
   "execution_count": 10,
   "metadata": {},
   "outputs": [],
   "source": [
    "# Pull outliers ouf of df2, leave them in df\n",
    "len(df[df.avg_surge > 3]) # 67\n",
    "df2 = df2[df2.avg_surge <= 3]"
   ]
  },
  {
   "cell_type": "code",
   "execution_count": 11,
   "metadata": {},
   "outputs": [],
   "source": [
    "# Pull outliers out of df2, leave them in df\n",
    "len(df[df.trips_in_first_30_days > 40]) # 35\n",
    "df2 = df2[df2.trips_in_first_30_days < 40]"
   ]
  },
  {
   "cell_type": "markdown",
   "metadata": {},
   "source": [
    "### Fill NaNs, change dates to datetime, signup_date to int"
   ]
  },
  {
   "cell_type": "code",
   "execution_count": 12,
   "metadata": {},
   "outputs": [],
   "source": [
    "df.phone.fillna('NA', inplace=True)\n",
    "df.avg_rating_by_driver.fillna(df.avg_rating_by_driver.mean(), inplace=True)\n",
    "df.avg_rating_of_driver.fillna(df.avg_rating_of_driver.mean(), inplace=True)\n",
    "\n",
    "df['signup_date'] = pd.to_datetime(df.signup_date)\n",
    "df['last_trip_date'] = pd.to_datetime(df.last_trip_date)\n",
    "\n",
    "# Signup date is just the date within January they signed up\n",
    "# Turn it into an int\n",
    "df['signup_date'] = (pd.to_datetime('2014-02-01') - df['signup_date']).astype(int)"
   ]
  },
  {
   "cell_type": "markdown",
   "metadata": {},
   "source": [
    "### last_trip_date and our Target\n",
    "As we're asked to find active riders past 30 days and we have data through July 1, 2014, our target is riders who rode\n",
    "after June 1, 2014.  Note that our retention rate is 36.62%.\n",
    "\n",
    "Thus, last_trip_date defines our target. As a result, we'll have to transform it and throw away the detail. Below we'll \n",
    "make that transformation."
   ]
  },
  {
   "cell_type": "code",
   "execution_count": 13,
   "metadata": {},
   "outputs": [
    {
     "name": "stdout",
     "output_type": "stream",
     "text": [
      "<class 'pandas.core.frame.DataFrame'>\n",
      "RangeIndex: 50000 entries, 0 to 49999\n",
      "Data columns (total 12 columns):\n",
      "avg_dist                  50000 non-null float64\n",
      "avg_rating_by_driver      50000 non-null float64\n",
      "avg_rating_of_driver      50000 non-null float64\n",
      "avg_surge                 50000 non-null float64\n",
      "city                      50000 non-null object\n",
      "phone                     50000 non-null object\n",
      "signup_date               50000 non-null int64\n",
      "surge_pct                 50000 non-null float64\n",
      "trips_in_first_30_days    50000 non-null int64\n",
      "ultimate_black_user       50000 non-null bool\n",
      "weekday_pct               50000 non-null float64\n",
      "retained                  50000 non-null bool\n",
      "dtypes: bool(2), float64(6), int64(2), object(2)\n",
      "memory usage: 3.9+ MB\n"
     ]
    }
   ],
   "source": [
    "# Unfortunately we can't keep last_trip_date without snooping\n",
    "# So let's just turn it into our target variable and drop it\n",
    "df['retained'] = df.last_trip_date > pd.to_datetime('2014-06-01')\n",
    "df.drop('last_trip_date', axis='columns', inplace=True)\n",
    "df.info()"
   ]
  },
  {
   "cell_type": "markdown",
   "metadata": {},
   "source": [
    "### One-hot encode the categories"
   ]
  },
  {
   "cell_type": "code",
   "execution_count": 14,
   "metadata": {},
   "outputs": [
    {
     "name": "stdout",
     "output_type": "stream",
     "text": [
      "<class 'pandas.core.frame.DataFrame'>\n",
      "RangeIndex: 50000 entries, 0 to 49999\n",
      "Data columns (total 14 columns):\n",
      "avg_dist                  50000 non-null float64\n",
      "avg_rating_by_driver      50000 non-null float64\n",
      "avg_rating_of_driver      50000 non-null float64\n",
      "avg_surge                 50000 non-null float64\n",
      "signup_date               50000 non-null int64\n",
      "surge_pct                 50000 non-null float64\n",
      "trips_in_first_30_days    50000 non-null int64\n",
      "ultimate_black_user       50000 non-null bool\n",
      "weekday_pct               50000 non-null float64\n",
      "retained                  50000 non-null bool\n",
      "city_King's Landing       50000 non-null uint8\n",
      "city_Winterfell           50000 non-null uint8\n",
      "phone_NA                  50000 non-null uint8\n",
      "phone_iPhone              50000 non-null uint8\n",
      "dtypes: bool(2), float64(6), int64(2), uint8(4)\n",
      "memory usage: 3.3 MB\n"
     ]
    }
   ],
   "source": [
    "# Categorify and one-hot-encode df.city and df.phone\n",
    "df['city'] = df.city.astype('category')\n",
    "df['phone'] = df.phone.astype('category')\n",
    "\n",
    "data_chunk = pd.get_dummies(df, drop_first=True)\n",
    "data_chunk.info()"
   ]
  },
  {
   "cell_type": "markdown",
   "metadata": {},
   "source": [
    "### Model selection/grid search\n",
    "\n",
    "A Random Forest is a great fit for our needs here - it's a robust model that doesn't require a lot of tuning, it gives\n",
    "consistently good results, and it also has a feature_importances_ attribute that will allow us to address the question\n",
    "about the best predictors for retention.\n",
    "\n",
    "I tested a few other models against a Random Forest (LinearSVC as suggested by sklearn, and a straight Logistic \n",
    "Regression), just to see how they compared. Not surprisingly, the Random Forest did the best (details in the Appendix).\n",
    "\n",
    "**Notes:**\n",
    "* I did some feature engineering to see how well I could enhance the results (see Appendix). Although the additional \n",
    "features were useful for the non-random forest models, they didn't help the random forest. \n",
    "    * This is a known property of random forests; they don't benefit from composed features as much, because they're able \n",
    "    to investigate the training space more completely with decision trees.\n",
    "    * The non-feature-engineered version actually did slightly better (0.75335 AUC vs 0.75332 for engineeered\n",
    "    features). Because the non-feature-engineered model is also simpler to understand, that's what I'm using.\n",
    "* Since Random Forests don't require the features to be scaled, and because they're ensemble methods, they're also more resistant to outliers. \n",
    "    * The model with all data actually did slightly better in tests (0.75335 AUC vs 0.74860 removing outliers), so that's what I'm using.\n",
    "* Because Random Forests don't have many useful parameters, running a grid search is typically not that enlightening. At \n",
    "the same time, since it's a fast model, there's not much downside to running a grid search.  \n",
    "    * The grid search showed that setting the max_depth parameter (the maximum depth of an individual decision tree) to \n",
    "    10 was better than the default (None), and better than other tested values of 1, 5, and 20.\n"
   ]
  },
  {
   "cell_type": "code",
   "execution_count": 15,
   "metadata": {},
   "outputs": [
    {
     "name": "stdout",
     "output_type": "stream",
     "text": [
      "Best cv AUC: 0.85\n",
      "Best validation set score: 0.85\n",
      "Best parameters:  {'clf__max_depth': 10, 'clf__max_features': 'auto'}\n"
     ]
    }
   ],
   "source": [
    "# Split into X and y\n",
    "\n",
    "X = data_chunk.drop('retained', axis='columns')\n",
    "y = data_chunk['retained']\n",
    "\n",
    "# Do two-level train-test split: first to get the set-aside test set and a train_and_valid set\n",
    "# Then to split train_and_valid into training and validation sets\n",
    "X_train_and_valid, X_test, y_train_and_valid, y_test = train_test_split(X, y, test_size=0.2, random_state=42)\n",
    "\n",
    "X_train, X_valid, y_train, y_valid = train_test_split(X_train_and_valid, y_train_and_valid, test_size=0.2, random_state=42)\n",
    "\n",
    "# Standardize the data set\n",
    "# Only useful for LinearSVC and Logistic Regression, so it's commented out now\n",
    "#scaler = StandardScaler()\n",
    "\n",
    "# model ()\n",
    "clf = RandomForestClassifier(n_estimators=50, n_jobs=4, random_state=42) \n",
    "#clf = LogisticRegression(n_jobs=4, random_state=42) \n",
    "#clf = LinearSVC(random_state=42) \n",
    "\n",
    "# cache the results in the pipeline\n",
    "cachedir = tempfile.mkdtemp()\n",
    "\n",
    "pipeline = Pipeline(memory=cachedir,\n",
    "                    steps=[#('scaler', scaler), # Scaler is not needed for random forest\n",
    "                            ('clf', clf)])\n",
    "\n",
    "# Parameters for grid search\n",
    "param_grid = {'clf__max_features': ['auto', 'log2', 10],\n",
    "              'clf__max_depth': [None, 1, 5, 10, 20]}\n",
    "\n",
    "grid = GridSearchCV(pipeline, param_grid=param_grid, cv=5, scoring='roc_auc')\n",
    "\n",
    "grid.fit(X_train, y_train)\n",
    "\n",
    "print('Best cv AUC: {:.2f}'.format(grid.best_score_)) # Best cv AUC: 0.85\n",
    "print('Best validation set score: {:.2f}'.format(grid.score(X_valid, y_valid))) # Best validation set score: 0.85\n",
    "print('Best parameters: ', grid.best_params_) # Best parameters:  {'clf__max_depth': 10, 'clf__max_features': 'auto'}"
   ]
  },
  {
   "cell_type": "markdown",
   "metadata": {},
   "source": [
    "### Train with chosen parameters\n",
    "With parameters chosen, we'll increase n_estimators (the number of decision trees in our forest) to as many as we can\n",
    "handle. Then we'll fit against our training set, and predict against our validation set, to get a sense of what to expect\n",
    "against unseen data."
   ]
  },
  {
   "cell_type": "code",
   "execution_count": 16,
   "metadata": {},
   "outputs": [
    {
     "name": "stdout",
     "output_type": "stream",
     "text": [
      "Training AUC: 0.79\n",
      "Validation AUC: 0.76\n"
     ]
    }
   ],
   "source": [
    "model = RandomForestClassifier(n_estimators=1000, max_depth=10, n_jobs=4, random_state=42)\n",
    "\n",
    "model.fit(X_train, y_train)\n",
    "valid_preds = model.predict(X_valid)\n",
    "\n",
    "print('Training AUC: {:.2f}'.format(roc_auc_score(y_train, model.predict(X_train))))\n",
    "print('Validation AUC: {:.2f}'.format(roc_auc_score(y_valid, valid_preds)))"
   ]
  },
  {
   "cell_type": "markdown",
   "metadata": {},
   "source": [
    "### Train and test with chosen parameters\n",
    "Finally, we can re-train against the entire training + validation set, and predict against our test set.  Since we have\n",
    "values for our test set, we can also evaluate the model against the test set to get our final evaluation.\n",
    "\n",
    "Notes:\n",
    "* Final test AUC = 0.76.  This is the probability that, given two randomly chosen customers (one retained, one not), our\n",
    "model will rate the retained customer as more likely to be retained than the churned customer (without \"looking\", of course). For this metric, 1.0 is perfection and 0.5 is guessing.\n",
    "    * Our model has some predictive value, but we would do better to have more (and more varied) data.\n",
    "        * For example, more data on the customer's most-recent trip (ratings, surge, weekend, etc.) may be of particular value.\n",
    "* Overall, our model has a 79% accuracy rate in predicting whether a customer will churn or not."
   ]
  },
  {
   "cell_type": "code",
   "execution_count": 17,
   "metadata": {},
   "outputs": [
    {
     "name": "stdout",
     "output_type": "stream",
     "text": [
      "Training + Validation AUC: 0.79\n",
      "Final Test AUC: 0.76\n",
      "Final Test Accuracy: 0.79\n",
      "Confusion Matrix:\n",
      "[[5505  817]\n",
      " [1279 2399]]\n"
     ]
    }
   ],
   "source": [
    "model = RandomForestClassifier(n_estimators=1000, max_depth=10, n_jobs=4, random_state=42)\n",
    "\n",
    "model.fit(X_train_and_valid, y_train_and_valid)\n",
    "test_preds = model.predict(X_test)\n",
    "\n",
    "print('Training + Validation AUC: {:.2f}'.format(roc_auc_score(y_train_and_valid, model.predict(X_train_and_valid))))\n",
    "print('Final Test AUC: {:.2f}'.format(roc_auc_score(y_test, test_preds)))\n",
    "print('Final Test Accuracy: {:.2f}'.format(accuracy_score(y_test, test_preds)))\n",
    "print('Confusion Matrix:')\n",
    "print(confusion_matrix(y_test, test_preds))"
   ]
  },
  {
   "cell_type": "markdown",
   "metadata": {},
   "source": [
    "### Feature Importance\n",
    "Let's look at the most important predictors of customer retention according to our model:\n",
    "* All the features total up to 100%, so this can be thought of as a pie chart.\n",
    "* avg_rating_by_driver is the most important, with a relative importance of 18%.\n",
    "* Whether the rider is from King's Landing is second, with relative importance of 14%.\n",
    "* The percent of trips taken with surge > 1 is third with relative importance of 13%.\n",
    "\n",
    "Before we look in detail at the top features, a possibly-surprising result to point out among the \"unimportant\" features:\n",
    "* avg_rating_of_driver, the average score that the rider gave to their drivers over all their trips, only has an \n",
    "importance of 3%. Certainly \"grade inflation\" plays a role here, as ratings of 4 and 5 are so common; still, this is\n",
    "fairly counterintuitive at first glance (again, it would be interesting to see how this compares to the rider's rating of\n",
    "their *most recent* driver)."
   ]
  },
  {
   "cell_type": "code",
   "execution_count": 18,
   "metadata": {},
   "outputs": [
    {
     "data": {
      "text/html": [
       "<div>\n",
       "<style scoped>\n",
       "    .dataframe tbody tr th:only-of-type {\n",
       "        vertical-align: middle;\n",
       "    }\n",
       "\n",
       "    .dataframe tbody tr th {\n",
       "        vertical-align: top;\n",
       "    }\n",
       "\n",
       "    .dataframe thead th {\n",
       "        text-align: right;\n",
       "    }\n",
       "</style>\n",
       "<table border=\"1\" class=\"dataframe\">\n",
       "  <thead>\n",
       "    <tr style=\"text-align: right;\">\n",
       "      <th></th>\n",
       "      <th>Feature</th>\n",
       "    </tr>\n",
       "    <tr>\n",
       "      <th>Importance</th>\n",
       "      <th></th>\n",
       "    </tr>\n",
       "  </thead>\n",
       "  <tbody>\n",
       "    <tr>\n",
       "      <th>0.18</th>\n",
       "      <td>avg_rating_by_driver</td>\n",
       "    </tr>\n",
       "    <tr>\n",
       "      <th>0.14</th>\n",
       "      <td>city_King's Landing</td>\n",
       "    </tr>\n",
       "    <tr>\n",
       "      <th>0.13</th>\n",
       "      <td>surge_pct</td>\n",
       "    </tr>\n",
       "    <tr>\n",
       "      <th>0.12</th>\n",
       "      <td>weekday_pct</td>\n",
       "    </tr>\n",
       "    <tr>\n",
       "      <th>0.10</th>\n",
       "      <td>avg_surge</td>\n",
       "    </tr>\n",
       "    <tr>\n",
       "      <th>0.08</th>\n",
       "      <td>phone_iPhone</td>\n",
       "    </tr>\n",
       "    <tr>\n",
       "      <th>0.07</th>\n",
       "      <td>ultimate_black_user</td>\n",
       "    </tr>\n",
       "    <tr>\n",
       "      <th>0.06</th>\n",
       "      <td>trips_in_first_30_days</td>\n",
       "    </tr>\n",
       "    <tr>\n",
       "      <th>0.05</th>\n",
       "      <td>avg_dist</td>\n",
       "    </tr>\n",
       "    <tr>\n",
       "      <th>0.03</th>\n",
       "      <td>avg_rating_of_driver</td>\n",
       "    </tr>\n",
       "    <tr>\n",
       "      <th>0.03</th>\n",
       "      <td>signup_date</td>\n",
       "    </tr>\n",
       "    <tr>\n",
       "      <th>0.01</th>\n",
       "      <td>city_Winterfell</td>\n",
       "    </tr>\n",
       "    <tr>\n",
       "      <th>0.00</th>\n",
       "      <td>phone_NA</td>\n",
       "    </tr>\n",
       "  </tbody>\n",
       "</table>\n",
       "</div>"
      ],
      "text/plain": [
       "                           Feature\n",
       "Importance                        \n",
       "0.18          avg_rating_by_driver\n",
       "0.14           city_King's Landing\n",
       "0.13                     surge_pct\n",
       "0.12                   weekday_pct\n",
       "0.10                     avg_surge\n",
       "0.08                  phone_iPhone\n",
       "0.07           ultimate_black_user\n",
       "0.06        trips_in_first_30_days\n",
       "0.05                      avg_dist\n",
       "0.03          avg_rating_of_driver\n",
       "0.03                   signup_date\n",
       "0.01               city_Winterfell\n",
       "0.00                      phone_NA"
      ]
     },
     "execution_count": 18,
     "metadata": {},
     "output_type": "execute_result"
    }
   ],
   "source": [
    "# Get feature_importances, match up to data columns, and sort descending\n",
    "imps = model.feature_importances_\n",
    "\n",
    "importances = pd.DataFrame(columns=['Feature', 'Importance'],\n",
    "                           data=(sorted(list(zip(X.columns, imps)), key=lambda tup: tup[1],  reverse=True)))\n",
    "\n",
    "importances['Importance'] = round(importances.Importance, 2)\n",
    "importances.set_index('Importance', inplace=True, drop=True)\n",
    "importances"
   ]
  },
  {
   "cell_type": "markdown",
   "metadata": {},
   "source": [
    "### Average Rating by Driver\n",
    "The average rating by the driver is the most important predictor in our model of whether a customer will churn.  Why is\n",
    "that? Below we see all the riders with average rating by the driver of 4 or less. On the left are the churned customers;\n",
    "on the right are the retained customers.\n",
    "\n",
    "**A customer with an average rating by the driver of 4 or less is 80% likely to churn.**\n",
    "\n",
    "What does this mean for the business?\n",
    "* How much of this is cause, and how much of this is effect? Further analysis is warranted.\n",
    "* We don't have data on the drivers who rated these customers.  Is a subset of drivers more likely to result in churned\n",
    "customers?\n",
    "* A couple of options to further investigate and to attempt to reduce churn could include:\n",
    "    * As a way to test churn-minimization techniques, identify an appropriate avg_rating_by_driver score cohort to focus\n",
    "    on churn-minimization efforts. Do an A/B test: randomly-chosen members of this group receive no special attention,  \n",
    "    while the other group receives the churn mitigation efforts (outreach, rebates, or other options). Test, learn, \n",
    "    tweak, repeat.\n",
    "    * An experiment only to be done with much care and thought would be to take a small(!) subset of at-risk customers, \n",
    "    record their actual ratings by drivers, and replace the ratings with \"inflated\" ratings. Test, learn, tweak, repeat."
   ]
  },
  {
   "cell_type": "code",
   "execution_count": 19,
   "metadata": {},
   "outputs": [
    {
     "data": {
      "image/png": "[encoded data removed]",
      "text/plain": [
       "<Figure size 1440x576 with 2 Axes>"
      ]
     },
     "metadata": {
      "needs_background": "light"
     },
     "output_type": "display_data"
    }
   ],
   "source": [
    "churned = df_raw.loc[(df_raw.last_trip_date <= '2014-06-01') &\n",
    "                     (df_raw.avg_rating_by_driver <= 4), 'avg_rating_by_driver'].value_counts()\n",
    "kept = df_raw.loc[(df_raw.last_trip_date > '2014-06-01') &\n",
    "                  (df_raw.avg_rating_by_driver <= 4), 'avg_rating_by_driver'].value_counts()\n",
    "\n",
    "# Chart\n",
    "fig, (ax1, ax2) = plt.subplots(nrows=1, ncols=2, sharey=False, figsize=(20,8))\n",
    "ax1.bar(churned.index, churned.values)\n",
    "ax1.set_title('avg_rating_by_driver <= 4\\nAmong Churned Customers')\n",
    "ax1.set_xlabel('avg_rating_by_driver')\n",
    "ax1.set_ylabel('Number of Riders')\n",
    "ax1.xaxis.set_major_locator(plt.MaxNLocator(5))\n",
    "ax2.bar(kept.index, kept.values)\n",
    "ax2.set_title('avg_rating_by_driver <= 4\\nAmong Retained Customers')\n",
    "ax2.set_xlabel('avg_rating_by_driver')\n",
    "ax2.set_ylabel('Number of Riders')\n",
    "ax2.set_ylim([0, 1600])\n",
    "ax2.xaxis.set_major_locator(plt.MaxNLocator(5))\n",
    "plt.tight_layout;"
   ]
  },
  {
   "cell_type": "markdown",
   "metadata": {},
   "source": [
    "### King's Landing customers\n",
    "The second most-important feature in our model is whether the customer is from King's Landing. \n",
    "\n",
    "Whereas 37% of Uber customers are retained, **62% of customers from King's Landing are retained.**\n",
    "\n",
    "What does this mean?\n",
    "* Further research is warranted into why customers from King's Landing churn so much less than others.\n",
    "* In the meantime, it's worth considering increasing new-customer outreach into King's Landing (advertising, marketing, \n",
    "etc.)\n",
    "* As with the average rating by the driver above, there are many opportunities to do A/B testing.\n",
    "    * Simple modifications of what's listed above are possible.\n",
    "    * An interesting data point to dig into would be: are rides to or from, or even just through, King's Landing, more \n",
    "    likely to reduce churn?\n",
    "    * Again, are the drivers in King's Landing more likely to be good drivers?j"
   ]
  },
  {
   "cell_type": "code",
   "execution_count": 20,
   "metadata": {},
   "outputs": [
    {
     "data": {
      "image/png": "[encoded data removed]",
      "text/plain": [
       "<Figure size 432x288 with 1 Axes>"
      ]
     },
     "metadata": {
      "needs_background": "light"
     },
     "output_type": "display_data"
    }
   ],
   "source": [
    "kept_king = len(df_raw[(df_raw.city == \"King's Landing\") & (df_raw.last_trip_date > '2014-06-01')])\n",
    "lost_king = len(df_raw[(df_raw.city == \"King's Landing\") & (df_raw.last_trip_date <= '2014-06-01')])\n",
    "\n",
    "# Chart\n",
    "fig, ax = plt.subplots()\n",
    "mpl.axes.Axes.bar(x=['Churned', 'Retained'], height=[lost_king, kept_king], ax=ax)\n",
    "ax.set_title(\"Riders from King's Landing\")\n",
    "ax.set_ylabel('Number of Customers');"
   ]
  },
  {
   "cell_type": "markdown",
   "metadata": {},
   "source": [
    "### Surge_pct\n",
    "Similarly surge_pct gives good insight into whether customers churn or not.\n",
    "\n",
    "**72% of customers who have never ridden during a surge time churn.** Churned customers who never rode during a surge time\n",
    "represent fully half of our data set, as seen below.\n",
    "\n",
    "This raises a number of questions:\n",
    "* Potentially customers who have never ridden during a surge time don't see the full value of the service, or perhaps they \n",
    "are particularly price-sensitive.\n",
    "* Certainly, the most experienced and \"professional\" drivers must drive during surge times. There may be a customer-\n",
    "service component to this.\n",
    "\n",
    "What next?\n",
    "* Consider rebates and outreach to non-surge customers, giving incentives to find reasons and times to ride during surge\n",
    "hours.\n",
    "* Consider testing ways to incentive especially skilled drivers to drive non-surge hours, and measure the results.\n",
    "* Given the \"entertainment\" angle present in the logins data, consider building campaigns to push the social aspect of\n",
    "going out with Uber, to gain and retain more surge-friendly customers."
   ]
  },
  {
   "cell_type": "code",
   "execution_count": 21,
   "metadata": {},
   "outputs": [
    {
     "data": {
      "image/png": "[encoded data removed]",
      "text/plain": [
       "<Figure size 432x288 with 1 Axes>"
      ]
     },
     "metadata": {
      "needs_background": "light"
     },
     "output_type": "display_data"
    }
   ],
   "source": [
    "kept_no_surge = len(df_raw[(df_raw.surge_pct == 0) & (df_raw.last_trip_date > '2014-06-01')])\n",
    "lost_no_surge = len(df_raw[(df_raw.surge_pct == 0) & (df_raw.last_trip_date <= '2014-06-01')])\n",
    "\n",
    "# Chart\n",
    "fig, ax = plt.subplots()\n",
    "mpl.axes.Axes.bar(x=['Churned', 'Retained'], height=[lost_no_surge, kept_no_surge], ax=ax)\n",
    "ax.set_title(\"Riders with No Surge\")\n",
    "ax.set_ylabel('Number of Customers');"
   ]
  },
  {
   "cell_type": "markdown",
   "metadata": {},
   "source": [
    "# Appendix\n",
    "### Additional Charts"
   ]
  },
  {
   "cell_type": "code",
   "execution_count": 10,
   "metadata": {},
   "outputs": [
    {
     "data": {
      "image/png": "[encoded data removed]",
      "text/plain": [
       "<Figure size 432x288 with 1 Axes>"
      ]
     },
     "metadata": {
      "needs_background": "light"
     },
     "output_type": "display_data"
    }
   ],
   "source": [
    "#Pull nans out of rating before graphing\n",
    "non_nans = df.avg_rating_by_driver.dropna()\n",
    "sns.distplot(non_nans)\n",
    "mean_nans = df.avg_rating_by_driver.fillna(df.avg_rating_by_driver.mean())"
   ]
  },
  {
   "cell_type": "code",
   "execution_count": 12,
   "metadata": {},
   "outputs": [
    {
     "data": {
      "text/plain": [
       "<matplotlib.axes._subplots.AxesSubplot at 0x7f21905f70f0>"
      ]
     },
     "execution_count": 12,
     "metadata": {},
     "output_type": "execute_result"
    },
    {
     "data": {
      "image/png": "[encoded data removed]",
      "text/plain": [
       "<Figure size 432x288 with 1 Axes>"
      ]
     },
     "metadata": {
      "needs_background": "light"
     },
     "output_type": "display_data"
    }
   ],
   "source": [
    "sns.distplot(df.avg_surge)"
   ]
  },
  {
   "cell_type": "code",
   "execution_count": 17,
   "metadata": {},
   "outputs": [
    {
     "data": {
      "text/plain": [
       "<BarContainer object of 3 artists>"
      ]
     },
     "execution_count": 17,
     "metadata": {},
     "output_type": "execute_result"
    },
    {
     "data": {
      "image/png": "[encoded data removed]",
      "text/plain": [
       "<Figure size 432x288 with 1 Axes>"
      ]
     },
     "metadata": {
      "needs_background": "light"
     },
     "output_type": "display_data"
    }
   ],
   "source": [
    "counts = df.phone.fillna('NA').value_counts()\n",
    "plt.bar(counts.index, counts.values)"
   ]
  },
  {
   "cell_type": "code",
   "execution_count": 18,
   "metadata": {},
   "outputs": [
    {
     "data": {
      "text/plain": [
       "<BarContainer object of 5 artists>"
      ]
     },
     "execution_count": 18,
     "metadata": {},
     "output_type": "execute_result"
    },
    {
     "data": {
      "image/png": "[encoded data removed]",
      "text/plain": [
       "<Figure size 432x288 with 1 Axes>"
      ]
     },
     "metadata": {
      "needs_background": "light"
     },
     "output_type": "display_data"
    }
   ],
   "source": [
    "# df.signup_date.nunique() # 31\n",
    "df['signup_date'] = pd.to_datetime(df.signup_date)\n",
    "counts = df.signup_date.dt.week.value_counts()\n",
    "plt.bar(counts.index, counts.values)"
   ]
  },
  {
   "cell_type": "code",
   "execution_count": 19,
   "metadata": {},
   "outputs": [
    {
     "data": {
      "text/plain": [
       "<BarContainer object of 10 artists>"
      ]
     },
     "execution_count": 19,
     "metadata": {},
     "output_type": "execute_result"
    },
    {
     "data": {
      "image/png": "[encoded data removed]",
      "text/plain": [
       "<Figure size 432x288 with 1 Axes>"
      ]
     },
     "metadata": {
      "needs_background": "light"
     },
     "output_type": "display_data"
    }
   ],
   "source": [
    "counts = (df.surge_pct // 10).value_counts()\n",
    "plt.bar(counts.index, counts.values)"
   ]
  },
  {
   "cell_type": "code",
   "execution_count": 20,
   "metadata": {},
   "outputs": [
    {
     "data": {
      "text/plain": [
       "<matplotlib.axes._subplots.AxesSubplot at 0x7f2190250198>"
      ]
     },
     "execution_count": 20,
     "metadata": {},
     "output_type": "execute_result"
    },
    {
     "data": {
      "image/png": "[encoded data removed]",
      "text/plain": [
       "<Figure size 432x288 with 1 Axes>"
      ]
     },
     "metadata": {
      "needs_background": "light"
     },
     "output_type": "display_data"
    }
   ],
   "source": [
    "sns.distplot(df.trips_in_first_30_days)"
   ]
  },
  {
   "cell_type": "code",
   "execution_count": 23,
   "metadata": {},
   "outputs": [
    {
     "data": {
      "text/plain": [
       "<matplotlib.axes._subplots.AxesSubplot at 0x7f21901aea20>"
      ]
     },
     "execution_count": 23,
     "metadata": {},
     "output_type": "execute_result"
    },
    {
     "data": {
      "image/png": "[encoded data removed]",
      "text/plain": [
       "<Figure size 432x288 with 1 Axes>"
      ]
     },
     "metadata": {
      "needs_background": "light"
     },
     "output_type": "display_data"
    }
   ],
   "source": [
    "# Get a closer look at the lower end of the scale for trips_in_first_30_days\n",
    "sns.distplot(df[df.trips_in_first_30_days < 20].trips_in_first_30_days)"
   ]
  },
  {
   "cell_type": "code",
   "execution_count": 15,
   "metadata": {},
   "outputs": [
    {
     "data": {
      "text/plain": [
       "<BarContainer object of 3 artists>"
      ]
     },
     "execution_count": 15,
     "metadata": {},
     "output_type": "execute_result"
    },
    {
     "data": {
      "image/png": "[encoded data removed]",
      "text/plain": [
       "<Figure size 432x288 with 1 Axes>"
      ]
     },
     "metadata": {
      "needs_background": "light"
     },
     "output_type": "display_data"
    }
   ],
   "source": [
    "df.city.value_counts().index\n",
    "counts = df.city.value_counts()\n",
    "plt.bar(counts.index, counts.values)"
   ]
  },
  {
   "cell_type": "code",
   "execution_count": 25,
   "metadata": {},
   "outputs": [
    {
     "data": {
      "text/plain": [
       "<BarContainer object of 11 artists>"
      ]
     },
     "execution_count": 25,
     "metadata": {},
     "output_type": "execute_result"
    },
    {
     "data": {
      "image/png": "[encoded data removed]",
      "text/plain": [
       "<Figure size 432x288 with 1 Axes>"
      ]
     },
     "metadata": {
      "needs_background": "light"
     },
     "output_type": "display_data"
    }
   ],
   "source": [
    "# weekday_pct has a lot of zeros and a lot of 100%\n",
    "counts = (df.weekday_pct // 10).value_counts()\n",
    "plt.bar(counts.index, counts.values)"
   ]
  },
  {
   "cell_type": "code",
   "execution_count": 24,
   "metadata": {},
   "outputs": [
    {
     "data": {
      "text/plain": [
       "<BarContainer object of 2 artists>"
      ]
     },
     "execution_count": 24,
     "metadata": {},
     "output_type": "execute_result"
    },
    {
     "data": {
      "image/png": "[encoded data removed]",
      "text/plain": [
       "<Figure size 432x288 with 1 Axes>"
      ]
     },
     "metadata": {
      "needs_background": "light"
     },
     "output_type": "display_data"
    }
   ],
   "source": [
    "counts = df.ultimate_black_user.value_counts()\n",
    "plt.bar(counts.index, counts.values)"
   ]
  },
  {
   "cell_type": "markdown",
   "metadata": {},
   "source": [
    "### Feature Engineering and Reduction in Collinearity"
   ]
  },
  {
   "cell_type": "code",
   "execution_count": 40,
   "metadata": {},
   "outputs": [],
   "source": [
    "#df['one_plus_black'] = (df.ultimate_black_user + 1) / 2\n",
    "\n",
    "# List of column, description pairs to use in creating features\n",
    "#numerics = [('avg_dist', 'dist'), ('avg_rating_by_driver', 'by'), ('avg_rating_of_driver', 'of'), ('avg_surge', 'surge'),\n",
    "            #('surge_pct', 'surge_pct'), ('trips_in_first_30_days', 'trips'), ('one_plus_black', 'black'),\n",
    "            #('weekday_pct', 'weekday')]\n",
    "\n",
    "# Create composite features by multiplying numerics\n",
    "#for col0, desc0 in numerics:\n",
    "    #for col1, desc1 in numerics:\n",
    "        #composite_descriptions = [(desc0 + '_' + desc1), (desc1 + '_' + desc0)]\n",
    "        #if composite_descriptions[0] not in df.columns and composite_descriptions[1] not in df.columns:\n",
    "            #df[composite_descriptions[0]] = df[col0] * df[col1]"
   ]
  },
  {
   "cell_type": "code",
   "execution_count": 29,
   "metadata": {},
   "outputs": [],
   "source": [
    "def id_cols_to_drop(df, threshold):\n",
    "    \"\"\"\n",
    "    Identifies columns to drop from a dataframe due to high correlation.\n",
    "    Input: the dataframe of interest and the correlation coefficient threshold.\n",
    "    Output: a list of the columns to drop.  Prints elapsed time to the screen because this takes a long time for a large\n",
    "    dataframe.\n",
    "    \"\"\"\n",
    "\n",
    "    time_0 = time.time()\n",
    "        \n",
    "    # Create correlation matrix\n",
    "    corr_matrix = df.corr().abs()\n",
    "\n",
    "    # Select upper triangle of correlation matrix\n",
    "    upper = corr_matrix.where(np.triu(np.ones(corr_matrix.shape), k=1).astype(np.bool))\n",
    "\n",
    "    # Find index of feature columns with correlation greater than 0.95\n",
    "    to_drop = [column for column in upper.columns if any(upper[column] > threshold)]\n",
    "    tt = time.time() - time_0\n",
    "    print('Done. Took ' + str(tt) + 'seconds.')\n",
    "\n",
    "    return(to_drop)\n",
    "\n",
    "#id_cols_to_drop(data_chunk, 0.9)"
   ]
  },
  {
   "cell_type": "code",
   "execution_count": 41,
   "metadata": {},
   "outputs": [],
   "source": [
    "#print(len(data_chunk.columns))\n",
    "#datachunk = data_chunk.drop(['one_plus_black', 'dist_by', 'dist_of', 'dist_surge', 'by_by', 'by_surge', 'by_surge_pct',\n",
    "                            #'by_trips', 'by_black', 'by_weekday', 'of_of', 'of_surge_pct', 'of_trips', 'of_black',\n",
    "                            #'of_weekday', 'surge_surge', 'surge_surge_pct', 'surge_trips', 'surge_weekday',\n",
    "                            #'surge_pct_surge_pct', 'surge_pct_black', 'trips_black', 'trips_weekday', 'black_black',\n",
    "                            #'weekday_weekday'], axis='columns', inplace=True)\n",
    "#print(len(data_chunk.columns))"
   ]
  },
  {
   "cell_type": "markdown",
   "metadata": {},
   "source": [
    "### Model Testing"
   ]
  },
  {
   "cell_type": "code",
   "execution_count": 326,
   "metadata": {},
   "outputs": [
    {
     "data": {
      "text/plain": [
       "14"
      ]
     },
     "execution_count": 326,
     "metadata": {},
     "output_type": "execute_result"
    }
   ],
   "source": [
    "# RF, n_estimators=50, no scaling, outliers removed, n_features=14\n",
    "#Best cv AUC: 0.85\n",
    "#Best validation set score: 0.85\n",
    "#Best parameters:  {'clf__max_depth': 10, 'clf__max_features': 'auto'}\n",
    "\n",
    "\n",
    "\n",
    "# RF, no scaling, n=50, removing outliers: Train AUC:  0.9992193236609714, Test AUC:  0.7487661798685422\n",
    "\n",
    "\n",
    "# Random Forest, no scaling, n=50, removing outliers\n",
    "# len(data_chunk.columns) # 14, AUC:  0.7487661798685422, [[4207  746] [1064 1960]], accuracy 0.7753541431615896\n",
    "# Then predicting on X_train, y_train: AUC 0.9482750402396632 (yeah right)\n",
    "\n",
    "# With Random Forests\n",
    "# len(data_chunk.columns) # 14, accuracy 0.7791250000000001, AUC:  0.7533500091142932, [[4316  774] [ 993 1917]] \n",
    "# len(data_chunk.columns) # 51, accuracy 0.771375 , AUC:  0.7439481092905029, [[4299  791] [1038 1872]]\n",
    "#len(data_chunk.columns) # 26, accuracy 0.78 , AUC:  0.7532281476380477, [[4334  756] [1004 1906]]\n",
    "\n",
    "# With pulling outliers:\n",
    "#len(data_chunk.columns) # 14, accuracy 0.7729722953491287, AUC:  0.7486008359531983, [[4207  746] [1065 1959]]\n",
    "\n",
    "# With pulling outliers and n_estimators = 5000:\n",
    "# len(data_chunk.columns) # 14, accuracy 0.7796163971417827, AUC:  0.7562049535474732, [[4225  728] [1030 1994]]\n",
    "# Then predicting on X_train, y_train: AUC 0.5411017630504311\n",
    "\n",
    "# With SVC\n",
    "#len(data_chunk.columns) # 26, accuracy 0.7362500000000001, AUC:  0.6867619954225994, [[4420  670] [1440 1470]]\n",
    "#len(data_chunk.columns) # 14, accuracy 0.733625, AUC:  0.6834481059148387,  [[4416  674] [1457 1453]]\n",
    "#len(data_chunk.columns) # 51, accuracy 0.7641249999999999, AUC:  0.7298614627427947, [[4355  735] [1152 1758]]\n",
    "\n",
    "# With Logistic Regression\n",
    "#len(data_chunk.columns) # 14, accuracy 0.733625, AUC:  0.6860237376703866, [[4381  709] [1422 1488]]\n",
    "#len(data_chunk.columns) # 26, accuracy 0.737625, AUC:  0.690565356233839, [[4394  696] [1403 1507]]\n",
    "#len(data_chunk.columns) # 51, accuracy 0.765625, AUC:  0.7319969078916276, [[4354  736] [1139 1771]]"
   ]
  }
 ],
 "metadata": {
  "kernelspec": {
   "display_name": "Python 3",
   "language": "python",
   "name": "python3"
  },
  "language_info": {
   "codemirror_mode": {
    "name": "ipython",
    "version": 3
   },
   "file_extension": ".py",
   "mimetype": "text/x-python",
   "name": "python",
   "nbconvert_exporter": "python",
   "pygments_lexer": "ipython3",
   "version": "3.7.2"
  }
 },
 "nbformat": 4,
 "nbformat_minor": 2
}
